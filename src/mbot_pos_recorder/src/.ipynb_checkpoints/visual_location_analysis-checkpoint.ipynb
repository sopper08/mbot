{
 "cells": [
  {
   "cell_type": "code",
   "execution_count": 1,
   "metadata": {},
   "outputs": [],
   "source": [
    "import pandas as pd\n",
    "import numpy as np\n",
    "import math\n",
    "import matplotlib.pyplot as plt\n",
    "import ipdb\n",
    "#matplotlib inline"
   ]
  },
  {
   "cell_type": "code",
   "execution_count": 2,
   "metadata": {},
   "outputs": [],
   "source": [
    "odom_pos = pd.read_json('../tmp_datas/odom_pos.json')\n",
    "real_pos = pd.read_json('../tmp_datas/real_pos.json')"
   ]
  },
  {
   "cell_type": "code",
   "execution_count": 3,
   "metadata": {},
   "outputs": [],
   "source": [
    "# ns\n",
    "DELTA_TIME = 200 * 10**6"
   ]
  },
  {
   "cell_type": "code",
   "execution_count": 4,
   "metadata": {
    "scrolled": true
   },
   "outputs": [
    {
     "data": {
      "text/html": [
       "<div>\n",
       "<style scoped>\n",
       "    .dataframe tbody tr th:only-of-type {\n",
       "        vertical-align: middle;\n",
       "    }\n",
       "\n",
       "    .dataframe tbody tr th {\n",
       "        vertical-align: top;\n",
       "    }\n",
       "\n",
       "    .dataframe thead th {\n",
       "        text-align: right;\n",
       "    }\n",
       "</style>\n",
       "<table border=\"1\" class=\"dataframe\">\n",
       "  <thead>\n",
       "    <tr style=\"text-align: right;\">\n",
       "      <th></th>\n",
       "      <th>time</th>\n",
       "      <th>x</th>\n",
       "      <th>y</th>\n",
       "    </tr>\n",
       "  </thead>\n",
       "  <tbody>\n",
       "    <tr>\n",
       "      <th>0</th>\n",
       "      <td>566548000000</td>\n",
       "      <td>9.390676</td>\n",
       "      <td>-0.027993</td>\n",
       "    </tr>\n",
       "    <tr>\n",
       "      <th>1</th>\n",
       "      <td>566548000000</td>\n",
       "      <td>9.389885</td>\n",
       "      <td>-0.027879</td>\n",
       "    </tr>\n",
       "    <tr>\n",
       "      <th>2</th>\n",
       "      <td>566560000000</td>\n",
       "      <td>9.389885</td>\n",
       "      <td>-0.027879</td>\n",
       "    </tr>\n",
       "    <tr>\n",
       "      <th>3</th>\n",
       "      <td>566560000000</td>\n",
       "      <td>9.389885</td>\n",
       "      <td>-0.027879</td>\n",
       "    </tr>\n",
       "    <tr>\n",
       "      <th>4</th>\n",
       "      <td>566569000000</td>\n",
       "      <td>9.389885</td>\n",
       "      <td>-0.027879</td>\n",
       "    </tr>\n",
       "  </tbody>\n",
       "</table>\n",
       "</div>"
      ],
      "text/plain": [
       "           time         x         y\n",
       "0  566548000000  9.390676 -0.027993\n",
       "1  566548000000  9.389885 -0.027879\n",
       "2  566560000000  9.389885 -0.027879\n",
       "3  566560000000  9.389885 -0.027879\n",
       "4  566569000000  9.389885 -0.027879"
      ]
     },
     "execution_count": 4,
     "metadata": {},
     "output_type": "execute_result"
    }
   ],
   "source": [
    "odom_pos.head()"
   ]
  },
  {
   "cell_type": "code",
   "execution_count": 5,
   "metadata": {
    "scrolled": true
   },
   "outputs": [
    {
     "data": {
      "text/html": [
       "<div>\n",
       "<style scoped>\n",
       "    .dataframe tbody tr th:only-of-type {\n",
       "        vertical-align: middle;\n",
       "    }\n",
       "\n",
       "    .dataframe tbody tr th {\n",
       "        vertical-align: top;\n",
       "    }\n",
       "\n",
       "    .dataframe thead th {\n",
       "        text-align: right;\n",
       "    }\n",
       "</style>\n",
       "<table border=\"1\" class=\"dataframe\">\n",
       "  <thead>\n",
       "    <tr style=\"text-align: right;\">\n",
       "      <th></th>\n",
       "      <th>time</th>\n",
       "      <th>x</th>\n",
       "      <th>y</th>\n",
       "    </tr>\n",
       "  </thead>\n",
       "  <tbody>\n",
       "    <tr>\n",
       "      <th>0</th>\n",
       "      <td>566472000000</td>\n",
       "      <td>9.314989</td>\n",
       "      <td>0.115175</td>\n",
       "    </tr>\n",
       "    <tr>\n",
       "      <th>1</th>\n",
       "      <td>566472000000</td>\n",
       "      <td>9.314990</td>\n",
       "      <td>0.115175</td>\n",
       "    </tr>\n",
       "    <tr>\n",
       "      <th>2</th>\n",
       "      <td>566472000000</td>\n",
       "      <td>9.314989</td>\n",
       "      <td>0.115175</td>\n",
       "    </tr>\n",
       "    <tr>\n",
       "      <th>3</th>\n",
       "      <td>566472000000</td>\n",
       "      <td>9.314989</td>\n",
       "      <td>0.115176</td>\n",
       "    </tr>\n",
       "    <tr>\n",
       "      <th>4</th>\n",
       "      <td>566472000000</td>\n",
       "      <td>9.314989</td>\n",
       "      <td>0.115175</td>\n",
       "    </tr>\n",
       "  </tbody>\n",
       "</table>\n",
       "</div>"
      ],
      "text/plain": [
       "           time         x         y\n",
       "0  566472000000  9.314989  0.115175\n",
       "1  566472000000  9.314990  0.115175\n",
       "2  566472000000  9.314989  0.115175\n",
       "3  566472000000  9.314989  0.115176\n",
       "4  566472000000  9.314989  0.115175"
      ]
     },
     "execution_count": 5,
     "metadata": {},
     "output_type": "execute_result"
    }
   ],
   "source": [
    "real_pos['x'] = 5 - real_pos['x']\n",
    "real_pos['y'] = 2.3 - real_pos['y']\n",
    "\n",
    "real_pos.head()"
   ]
  },
  {
   "cell_type": "code",
   "execution_count": 6,
   "metadata": {},
   "outputs": [
    {
     "data": {
      "text/plain": [
       "566548000000.0"
      ]
     },
     "execution_count": 6,
     "metadata": {},
     "output_type": "execute_result"
    }
   ],
   "source": [
    "initial_time = odom_pos.iloc[0]['time']\n",
    "initial_time"
   ]
  },
  {
   "cell_type": "code",
   "execution_count": 7,
   "metadata": {},
   "outputs": [
    {
     "data": {
      "text/plain": [
       "736345000000.0"
      ]
     },
     "execution_count": 7,
     "metadata": {},
     "output_type": "execute_result"
    }
   ],
   "source": [
    "end_time = odom_pos.iloc[-1]['time']\n",
    "end_time"
   ]
  },
  {
   "cell_type": "code",
   "execution_count": null,
   "metadata": {
    "scrolled": true
   },
   "outputs": [],
   "source": [
    "search_region = 20000\n",
    "for time in range(int(initial_time), int(end_time), DELTA_TIME):\n",
    "    df = real_pos[(real_pos['time']>=time) & (real_pos['time']<time+search_region)].copy()\n",
    "    if df.empty:\n",
    "        continue\n",
    "    real_x = df['x'].mean()\n",
    "    real_y = df['y'].mean()\n",
    "    df = odom_pos[(odom_pos['time']>time) & (odom_pos['time']<time+DELTA_TIME)]\n",
    "    if df.empty:\n",
    "        continue\n",
    "    past_pos = []\n",
    "    delta_x = []\n",
    "    delta_y = []\n",
    "    \n",
    "    delta_x.append(0)\n",
    "    delta_y.append(0)\n",
    "    \n",
    "    first_idx = df.first_valid_index()\n",
    "    \n",
    "    for idx, row in df.iterrows():\n",
    "        if idx==first_idx:\n",
    "            delta_x.append(0)\n",
    "            delta_y.append(0)\n",
    "            past_pos = [row['x'], row['y']]\n",
    "        else:\n",
    "            delta_x.append(row['x'] - past_pos[0])\n",
    "            delta_y.append(row['y'] - past_pos[1])\n",
    "            past_pos = [row['x'], row['y']]\n",
    "    \n",
    "    integral_x = [sum(delta_x[0:i]) for i in range(len(delta_x))]\n",
    "    integral_y = [sum(delta_y[0:i]) for i in range(len(delta_y))]\n",
    "    \n",
    "    df_integral_x = pd.DataFrame(integral_x, index=range(first_idx,first_idx+len(integral_x)))\n",
    "    df_integral_y = pd.DataFrame(integral_y, index=range(first_idx,first_idx+len(integral_y)))\n",
    "    odom_pos['cal_x'] = df_integral_x + real_x\n",
    "    odom_pos['cal_y'] = df_integral_y + real_y"
   ]
  },
  {
   "cell_type": "code",
   "execution_count": null,
   "metadata": {
    "scrolled": true
   },
   "outputs": [],
   "source": [
    "odom_pos.head()"
   ]
  },
  {
   "cell_type": "code",
   "execution_count": null,
   "metadata": {
    "scrolled": true
   },
   "outputs": [],
   "source": [
    "tmp_x = []\n",
    "tmp_y = []\n",
    "for idx, row in odom_pos.iterrows():\n",
    "    if not np.isnan(row['cal_x']):\n",
    "        tmp_x.append(row['cal_x'])\n",
    "    else:\n",
    "        tmp_x.append(row['x'])\n",
    "    if not np.isnan(row['cal_y']):\n",
    "        tmp_y.append(row['cal_y'])\n",
    "    else:\n",
    "        tmp_y.append(row['y'])\n",
    "\n",
    "odom_pos['combine_x'] = pd.DataFrame(tmp_x)\n",
    "odom_pos['combine_y'] = pd.DataFrame(tmp_y)\n",
    "\n",
    "odom_pos.head()\n",
    "        "
   ]
  },
  {
   "cell_type": "code",
   "execution_count": null,
   "metadata": {},
   "outputs": [],
   "source": [
    "threshold = 3000000\n",
    "\n",
    "tmp_list = []\n",
    "for idx, row in odom_pos.iterrows():\n",
    "    min_t = row['time'] - threshold\n",
    "    max_t = row['time'] + threshold\n",
    "#     print(real_pos[])\n",
    "    df = real_pos[(real_pos['time']>min_t) & (real_pos['time']<max_t)].copy()\n",
    "    real_xy = df[[\"x\", \"y\"]].mean()\n",
    "    tmp_list.append({\n",
    "        \"time\": row['time'],\n",
    "        \"odom_x\": row['combine_x'],\n",
    "        \"odom_y\": row['combine_y'],\n",
    "        \"real_x\": real_xy.x,\n",
    "        \"real_y\": real_xy.y,\n",
    "    })\n",
    "df_odom_And_real = pd.DataFrame(tmp_list)\n",
    "df_odom_And_real.head()"
   ]
  },
  {
   "cell_type": "code",
   "execution_count": null,
   "metadata": {},
   "outputs": [],
   "source": [
    "x_mean_delta = (df_odom_And_real['odom_x']-df_odom_And_real['real_x']).abs().mean()\n",
    "y_mean_delta = (df_odom_And_real['odom_y']-df_odom_And_real['real_y']).abs().mean()\n",
    "\n",
    "error = math.sqrt(x_mean_delta**2 + y_mean_delta**2)\n",
    "print(error)"
   ]
  },
  {
   "cell_type": "code",
   "execution_count": 122,
   "metadata": {},
   "outputs": [
    {
     "data": {
      "text/plain": [
       "<matplotlib.axes._subplots.AxesSubplot at 0x7f9958a42be0>"
      ]
     },
     "execution_count": 122,
     "metadata": {},
     "output_type": "execute_result"
    },
    {
     "data": {
      "image/png": "[encoded data removed]",
      "text/plain": [
       "<Figure size 432x288 with 1 Axes>"
      ]
     },
     "metadata": {
      "needs_background": "light"
     },
     "output_type": "display_data"
    }
   ],
   "source": [
    "df = (df_odom_And_real['odom_x']-df_odom_And_real['real_x']).abs()\n",
    "df.plot()"
   ]
  },
  {
   "cell_type": "code",
   "execution_count": null,
   "metadata": {},
   "outputs": [],
   "source": []
  }
 ],
 "metadata": {
  "kernelspec": {
   "display_name": "Python 3",
   "language": "python",
   "name": "python3"
  },
  "language_info": {
   "codemirror_mode": {
    "name": "ipython",
    "version": 3
   },
   "file_extension": ".py",
   "mimetype": "text/x-python",
   "name": "python",
   "nbconvert_exporter": "python",
   "pygments_lexer": "ipython3",
   "version": "3.5.2"
  }
 },
 "nbformat": 4,
 "nbformat_minor": 2
}
