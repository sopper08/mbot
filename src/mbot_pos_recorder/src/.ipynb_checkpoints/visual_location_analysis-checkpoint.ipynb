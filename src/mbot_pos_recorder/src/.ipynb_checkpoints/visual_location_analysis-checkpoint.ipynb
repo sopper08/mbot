{
 "cells": [
  {
   "cell_type": "code",
   "execution_count": 13,
   "metadata": {},
   "outputs": [],
   "source": [
    "import pandas as pd\n",
    "import math\n",
    "import matplotlib.pyplot as plt\n",
    "#matplotlib inline"
   ]
  },
  {
   "cell_type": "code",
   "execution_count": 14,
   "metadata": {},
   "outputs": [],
   "source": [
    "odom_pos = pd.read_json('../tmp_datas/odom_pos.json')\n",
    "real_pos = pd.read_json('../tmp_datas/real_pos.json')"
   ]
  },
  {
   "cell_type": "code",
   "execution_count": 15,
   "metadata": {},
   "outputs": [],
   "source": [
    "DELTA_TIME = 2 * 10**9"
   ]
  },
  {
   "cell_type": "code",
   "execution_count": 16,
   "metadata": {
    "scrolled": true
   },
   "outputs": [
    {
     "data": {
      "text/html": [
       "<div>\n",
       "<style scoped>\n",
       "    .dataframe tbody tr th:only-of-type {\n",
       "        vertical-align: middle;\n",
       "    }\n",
       "\n",
       "    .dataframe tbody tr th {\n",
       "        vertical-align: top;\n",
       "    }\n",
       "\n",
       "    .dataframe thead th {\n",
       "        text-align: right;\n",
       "    }\n",
       "</style>\n",
       "<table border=\"1\" class=\"dataframe\">\n",
       "  <thead>\n",
       "    <tr style=\"text-align: right;\">\n",
       "      <th></th>\n",
       "      <th>time</th>\n",
       "      <th>x</th>\n",
       "      <th>y</th>\n",
       "    </tr>\n",
       "  </thead>\n",
       "  <tbody>\n",
       "    <tr>\n",
       "      <th>0</th>\n",
       "      <td>566548000000</td>\n",
       "      <td>9.390676</td>\n",
       "      <td>-0.027993</td>\n",
       "    </tr>\n",
       "    <tr>\n",
       "      <th>1</th>\n",
       "      <td>566548000000</td>\n",
       "      <td>9.389885</td>\n",
       "      <td>-0.027879</td>\n",
       "    </tr>\n",
       "    <tr>\n",
       "      <th>2</th>\n",
       "      <td>566560000000</td>\n",
       "      <td>9.389885</td>\n",
       "      <td>-0.027879</td>\n",
       "    </tr>\n",
       "    <tr>\n",
       "      <th>3</th>\n",
       "      <td>566560000000</td>\n",
       "      <td>9.389885</td>\n",
       "      <td>-0.027879</td>\n",
       "    </tr>\n",
       "    <tr>\n",
       "      <th>4</th>\n",
       "      <td>566569000000</td>\n",
       "      <td>9.389885</td>\n",
       "      <td>-0.027879</td>\n",
       "    </tr>\n",
       "  </tbody>\n",
       "</table>\n",
       "</div>"
      ],
      "text/plain": [
       "           time         x         y\n",
       "0  566548000000  9.390676 -0.027993\n",
       "1  566548000000  9.389885 -0.027879\n",
       "2  566560000000  9.389885 -0.027879\n",
       "3  566560000000  9.389885 -0.027879\n",
       "4  566569000000  9.389885 -0.027879"
      ]
     },
     "execution_count": 16,
     "metadata": {},
     "output_type": "execute_result"
    }
   ],
   "source": [
    "odom_pos.head()"
   ]
  },
  {
   "cell_type": "code",
   "execution_count": 17,
   "metadata": {
    "scrolled": true
   },
   "outputs": [
    {
     "data": {
      "text/html": [
       "<div>\n",
       "<style scoped>\n",
       "    .dataframe tbody tr th:only-of-type {\n",
       "        vertical-align: middle;\n",
       "    }\n",
       "\n",
       "    .dataframe tbody tr th {\n",
       "        vertical-align: top;\n",
       "    }\n",
       "\n",
       "    .dataframe thead th {\n",
       "        text-align: right;\n",
       "    }\n",
       "</style>\n",
       "<table border=\"1\" class=\"dataframe\">\n",
       "  <thead>\n",
       "    <tr style=\"text-align: right;\">\n",
       "      <th></th>\n",
       "      <th>time</th>\n",
       "      <th>x</th>\n",
       "      <th>y</th>\n",
       "    </tr>\n",
       "  </thead>\n",
       "  <tbody>\n",
       "    <tr>\n",
       "      <th>0</th>\n",
       "      <td>566472000000</td>\n",
       "      <td>9.314989</td>\n",
       "      <td>0.115175</td>\n",
       "    </tr>\n",
       "    <tr>\n",
       "      <th>1</th>\n",
       "      <td>566472000000</td>\n",
       "      <td>9.314990</td>\n",
       "      <td>0.115175</td>\n",
       "    </tr>\n",
       "    <tr>\n",
       "      <th>2</th>\n",
       "      <td>566472000000</td>\n",
       "      <td>9.314989</td>\n",
       "      <td>0.115175</td>\n",
       "    </tr>\n",
       "    <tr>\n",
       "      <th>3</th>\n",
       "      <td>566472000000</td>\n",
       "      <td>9.314989</td>\n",
       "      <td>0.115176</td>\n",
       "    </tr>\n",
       "    <tr>\n",
       "      <th>4</th>\n",
       "      <td>566472000000</td>\n",
       "      <td>9.314989</td>\n",
       "      <td>0.115175</td>\n",
       "    </tr>\n",
       "  </tbody>\n",
       "</table>\n",
       "</div>"
      ],
      "text/plain": [
       "           time         x         y\n",
       "0  566472000000  9.314989  0.115175\n",
       "1  566472000000  9.314990  0.115175\n",
       "2  566472000000  9.314989  0.115175\n",
       "3  566472000000  9.314989  0.115176\n",
       "4  566472000000  9.314989  0.115175"
      ]
     },
     "execution_count": 17,
     "metadata": {},
     "output_type": "execute_result"
    }
   ],
   "source": [
    "real_pos['x'] = 5 - real_pos['x']\n",
    "real_pos['y'] = 2.3 - real_pos['y']\n",
    "\n",
    "real_pos.head()"
   ]
  },
  {
   "cell_type": "code",
   "execution_count": 18,
   "metadata": {},
   "outputs": [
    {
     "data": {
      "text/plain": [
       "566548000000.0"
      ]
     },
     "execution_count": 18,
     "metadata": {},
     "output_type": "execute_result"
    }
   ],
   "source": [
    "initial_time = odom_pos.iloc[0]['time']\n",
    "initial_time"
   ]
  },
  {
   "cell_type": "code",
   "execution_count": 20,
   "metadata": {},
   "outputs": [
    {
     "data": {
      "text/plain": [
       "736345000000.0"
      ]
     },
     "execution_count": 20,
     "metadata": {},
     "output_type": "execute_result"
    }
   ],
   "source": [
    "end_time = odom_pos.iloc[-1]['time']\n",
    "end_time"
   ]
  },
  {
   "cell_type": "code",
   "execution_count": 36,
   "metadata": {
    "scrolled": false
   },
   "outputs": [
    {
     "name": "stdout",
     "output_type": "stream",
     "text": [
      "real_x: 9.314996703461777, real_y: 0.11517425272689197\n",
      "             time         x         y   delta_x\n",
      "0    566548000000  9.390676 -0.027993  0.000000\n",
      "1    566548000000  9.389885 -0.027879 -0.000791\n",
      "2    566560000000  9.389885 -0.027879 -0.000791\n",
      "3    566560000000  9.389885 -0.027879 -0.000791\n",
      "4    566569000000  9.389885 -0.027879 -0.000791\n",
      "5    566580000000  9.389885 -0.027879 -0.000791\n",
      "6    566580000000  9.389885 -0.027879 -0.000791\n",
      "7    566600000000  9.389885 -0.027879 -0.000791\n",
      "8    566619000000  9.389885 -0.027879 -0.000791\n",
      "9    566620000000  9.389885 -0.027879 -0.000791\n",
      "10   566620000000  9.389885 -0.027879 -0.000791\n",
      "11   566621000000  9.389886 -0.027879 -0.000791\n",
      "12   566640000000  9.389886 -0.027879 -0.000791\n",
      "13   566660000000  9.389886 -0.027879 -0.000791\n",
      "14   566664000000  9.389886 -0.027879 -0.000791\n",
      "15   566665000000  9.389886 -0.027879 -0.000791\n",
      "16   566669000000  9.389886 -0.027879 -0.000791\n",
      "17   566680000000  9.389886 -0.027879 -0.000791\n",
      "18   566700000000  9.389886 -0.027879 -0.000791\n",
      "19   566708000000  9.387218 -0.027399 -0.003459\n",
      "20   566709000000  9.392419 -0.028053  0.001743\n",
      "21   566720000000  9.392419 -0.028053  0.001743\n",
      "22   566720000000  9.392419 -0.028053  0.001743\n",
      "23   566740000000  9.392419 -0.028053  0.001743\n",
      "24   566752000000  9.389964 -0.027832 -0.000712\n",
      "25   566753000000  9.386356 -0.027308 -0.004320\n",
      "26   566760000000  9.386356 -0.027308 -0.004320\n",
      "27   566769000000  9.386356 -0.027308 -0.004320\n",
      "28   566780000000  9.386356 -0.027308 -0.004320\n",
      "29   566796000000  9.386921 -0.027419 -0.003755\n",
      "..            ...       ...       ...       ...\n",
      "212  568319000000  9.384947 -0.027478 -0.005729\n",
      "213  568320000000  9.384947 -0.027478 -0.005729\n",
      "214  568335000000  9.384947 -0.027478 -0.005729\n",
      "215  568335000000  9.384947 -0.027478 -0.005729\n",
      "216  568340000000  9.384947 -0.027478 -0.005729\n",
      "217  568360000000  9.384947 -0.027478 -0.005729\n",
      "218  568369000000  9.384947 -0.027478 -0.005729\n",
      "219  568379000000  9.384947 -0.027478 -0.005729\n",
      "220  568379000000  9.384947 -0.027478 -0.005729\n",
      "221  568380000000  9.384947 -0.027478 -0.005729\n",
      "222  568400000000  9.384947 -0.027478 -0.005729\n",
      "223  568419000000  9.384947 -0.027478 -0.005729\n",
      "224  568420000000  9.384947 -0.027478 -0.005729\n",
      "225  568423000000  9.384947 -0.027478 -0.005729\n",
      "226  568423000000  9.384947 -0.027478 -0.005729\n",
      "227  568423000000  9.384947 -0.027478 -0.005729\n",
      "228  568440000000  9.384947 -0.027478 -0.005729\n",
      "229  568460000000  9.384947 -0.027478 -0.005729\n",
      "230  568466000000  9.384947 -0.027478 -0.005729\n",
      "231  568467000000  9.384947 -0.027478 -0.005729\n",
      "232  568470000000  9.384947 -0.027478 -0.005729\n",
      "233  568480000000  9.384947 -0.027478 -0.005729\n",
      "234  568480000000  9.384947 -0.027478 -0.005729\n",
      "235  568500000000  9.384947 -0.027478 -0.005729\n",
      "236  568500000000  9.384947 -0.027478 -0.005729\n",
      "237  568519000000  9.384947 -0.027478 -0.005729\n",
      "238  568520000000  9.384947 -0.027478 -0.005729\n",
      "239  568540000000  9.384947 -0.027478 -0.005729\n",
      "240  568542000000  9.384948 -0.027478 -0.005729\n",
      "241  568542000000  9.384948 -0.027478 -0.005729\n",
      "\n",
      "[242 rows x 4 columns]\n"
     ]
    },
    {
     "name": "stderr",
     "output_type": "stream",
     "text": [
      "/usr/local/lib/python3.5/dist-packages/ipykernel_launcher.py:20: SettingWithCopyWarning: \n",
      "A value is trying to be set on a copy of a slice from a DataFrame.\n",
      "Try using .loc[row_indexer,col_indexer] = value instead\n",
      "\n",
      "See the caveats in the documentation: http://pandas.pydata.org/pandas-docs/stable/indexing.html#indexing-view-versus-copy\n"
     ]
    },
    {
     "ename": "IndexError",
     "evalue": "list index out of range",
     "output_type": "error",
     "traceback": [
      "\u001b[0;31m---------------------------------------------------------------------------\u001b[0m",
      "\u001b[0;31mIndexError\u001b[0m                                Traceback (most recent call last)",
      "\u001b[0;32m<ipython-input-36-7e200bc2e8d7>\u001b[0m in \u001b[0;36m<module>\u001b[0;34m\u001b[0m\n\u001b[1;32m     16\u001b[0m             \u001b[0mpast_pos\u001b[0m \u001b[0;34m=\u001b[0m \u001b[0;34m[\u001b[0m\u001b[0mrow\u001b[0m\u001b[0;34m[\u001b[0m\u001b[0;34m'x'\u001b[0m\u001b[0;34m]\u001b[0m\u001b[0;34m,\u001b[0m \u001b[0mrow\u001b[0m\u001b[0;34m[\u001b[0m\u001b[0;34m'y'\u001b[0m\u001b[0;34m]\u001b[0m\u001b[0;34m]\u001b[0m\u001b[0;34m\u001b[0m\u001b[0m\n\u001b[1;32m     17\u001b[0m         \u001b[0;32melse\u001b[0m\u001b[0;34m:\u001b[0m\u001b[0;34m\u001b[0m\u001b[0m\n\u001b[0;32m---> 18\u001b[0;31m             \u001b[0mdelta_x\u001b[0m\u001b[0;34m.\u001b[0m\u001b[0mappend\u001b[0m\u001b[0;34m(\u001b[0m\u001b[0mrow\u001b[0m\u001b[0;34m[\u001b[0m\u001b[0;34m'x'\u001b[0m\u001b[0;34m]\u001b[0m \u001b[0;34m-\u001b[0m \u001b[0mpast_pos\u001b[0m\u001b[0;34m[\u001b[0m\u001b[0;36m0\u001b[0m\u001b[0;34m]\u001b[0m\u001b[0;34m)\u001b[0m\u001b[0;34m\u001b[0m\u001b[0m\n\u001b[0m\u001b[1;32m     19\u001b[0m             \u001b[0mdelta_y\u001b[0m\u001b[0;34m.\u001b[0m\u001b[0mappend\u001b[0m\u001b[0;34m(\u001b[0m\u001b[0mrow\u001b[0m\u001b[0;34m[\u001b[0m\u001b[0;34m'y'\u001b[0m\u001b[0;34m]\u001b[0m \u001b[0;34m-\u001b[0m \u001b[0mpast_pos\u001b[0m\u001b[0;34m[\u001b[0m\u001b[0;36m1\u001b[0m\u001b[0;34m]\u001b[0m\u001b[0;34m)\u001b[0m\u001b[0;34m\u001b[0m\u001b[0m\n\u001b[1;32m     20\u001b[0m     \u001b[0mdf\u001b[0m\u001b[0;34m[\u001b[0m\u001b[0;34m'delta_x'\u001b[0m\u001b[0;34m]\u001b[0m \u001b[0;34m=\u001b[0m \u001b[0mpd\u001b[0m\u001b[0;34m.\u001b[0m\u001b[0mDataFrame\u001b[0m\u001b[0;34m(\u001b[0m\u001b[0mdelta_x\u001b[0m\u001b[0;34m)\u001b[0m\u001b[0;34m\u001b[0m\u001b[0m\n",
      "\u001b[0;31mIndexError\u001b[0m: list index out of range"
     ]
    }
   ],
   "source": [
    "search_region = 20000\n",
    "for time in range(int(initial_time), int(end_time), DELTA_TIME):\n",
    "    df = real_pos[(real_pos['time']>=time) & (real_pos['time']<time+search_region)].copy()\n",
    "    if df.empty:\n",
    "        continue\n",
    "    real_x = df['x'].mean()\n",
    "    real_y = df['y'].mean()\n",
    "    df = odom_pos[(odom_pos['time']>=time) & (odom_pos['time']<time+DELTA_TIME)]\n",
    "    past_pos = []\n",
    "    delta_x = []\n",
    "    delta_y = []\n",
    "    for idx, row in df.iterrows():\n",
    "        if idx==0:\n",
    "            delta_x.append(0)\n",
    "            delta_y.append(0)\n",
    "            past_pos = [row['x'], row['y']]\n",
    "        else:\n",
    "            delta_x.append(row['x'] - past_pos[0])\n",
    "            delta_y.append(row['y'] - past_pos[1])\n",
    "            past_pos = [row['x'], row['y']]\n",
    "    df['delta_x'] = pd.DataFrame(delta_x)\n",
    "    \n",
    "    print(\"real_x: {0}, real_y: {1}\".format(real_x, real_y))\n",
    "    print(df)"
   ]
  },
  {
   "cell_type": "code",
   "execution_count": null,
   "metadata": {},
   "outputs": [],
   "source": [
    "    past_pos = []\n",
    "    for idx, row in df.iterrows():\n",
    "        if past_pos == []:\n",
    "            df.iloc[idx]['x'] = real_x\n",
    "            df.iloc[idx]['y'] = real_y\n",
    "            past_pos = [row['x'],row['y']]\n",
    "        else:\n",
    "            df.iloc[idx]['x'] = df.iloc[idx-1]['x']+(row['x']-past_pos[0])\n",
    "            df.iloc[idx]['y'] = df.iloc[idx-1]['y']+(row['y']-past_pos[1])\n",
    "            past_pos = [row['x'],row['y']]"
   ]
  }
 ],
 "metadata": {
  "kernelspec": {
   "display_name": "Python 3",
   "language": "python",
   "name": "python3"
  },
  "language_info": {
   "codemirror_mode": {
    "name": "ipython",
    "version": 3
   },
   "file_extension": ".py",
   "mimetype": "text/x-python",
   "name": "python",
   "nbconvert_exporter": "python",
   "pygments_lexer": "ipython3",
   "version": "3.5.2"
  }
 },
 "nbformat": 4,
 "nbformat_minor": 2
}
